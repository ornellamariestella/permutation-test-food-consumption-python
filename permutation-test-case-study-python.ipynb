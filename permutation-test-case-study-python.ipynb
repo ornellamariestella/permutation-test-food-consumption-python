{
 "cells": [
  {
   "cell_type": "code",
   "execution_count": 3,
   "id": "734a815f-7e3e-4032-9721-eb5409fbc523",
   "metadata": {},
   "outputs": [],
   "source": [
    "# importing the necessary libraries\n",
    "import numpy as np\n",
    "import pandas as pd\n",
    "\n",
    "import matplotlib.pyplot as plt\n",
    "import seaborn as sns\n",
    "sns.set_theme()\n",
    "sns.set(rc={\"figure.figsize\":(15, 9)})\n",
    "sns.set(font_scale=1.5) "
   ]
  },
  {
   "cell_type": "code",
   "execution_count": 4,
   "id": "dfd5da95-6fdd-4f31-acb8-9c6e1a424df7",
   "metadata": {},
   "outputs": [
    {
     "data": {
      "text/html": [
       "<div>\n",
       "<style scoped>\n",
       "    .dataframe tbody tr th:only-of-type {\n",
       "        vertical-align: middle;\n",
       "    }\n",
       "\n",
       "    .dataframe tbody tr th {\n",
       "        vertical-align: top;\n",
       "    }\n",
       "\n",
       "    .dataframe thead th {\n",
       "        text-align: right;\n",
       "    }\n",
       "</style>\n",
       "<table border=\"1\" class=\"dataframe\">\n",
       "  <thead>\n",
       "    <tr style=\"text-align: right;\">\n",
       "      <th></th>\n",
       "      <th>country</th>\n",
       "      <th>food_category</th>\n",
       "      <th>consumption</th>\n",
       "      <th>co2_emission</th>\n",
       "    </tr>\n",
       "  </thead>\n",
       "  <tbody>\n",
       "    <tr>\n",
       "      <th>0</th>\n",
       "      <td>Argentina</td>\n",
       "      <td>pork</td>\n",
       "      <td>10.51</td>\n",
       "      <td>37.20</td>\n",
       "    </tr>\n",
       "    <tr>\n",
       "      <th>1</th>\n",
       "      <td>Argentina</td>\n",
       "      <td>poultry</td>\n",
       "      <td>38.66</td>\n",
       "      <td>41.53</td>\n",
       "    </tr>\n",
       "    <tr>\n",
       "      <th>2</th>\n",
       "      <td>Argentina</td>\n",
       "      <td>beef</td>\n",
       "      <td>55.48</td>\n",
       "      <td>1712.00</td>\n",
       "    </tr>\n",
       "    <tr>\n",
       "      <th>3</th>\n",
       "      <td>Argentina</td>\n",
       "      <td>lamb_goat</td>\n",
       "      <td>1.56</td>\n",
       "      <td>54.63</td>\n",
       "    </tr>\n",
       "    <tr>\n",
       "      <th>4</th>\n",
       "      <td>Argentina</td>\n",
       "      <td>fish</td>\n",
       "      <td>4.36</td>\n",
       "      <td>6.96</td>\n",
       "    </tr>\n",
       "  </tbody>\n",
       "</table>\n",
       "</div>"
      ],
      "text/plain": [
       "     country food_category  consumption  co2_emission\n",
       "0  Argentina          pork        10.51         37.20\n",
       "1  Argentina       poultry        38.66         41.53\n",
       "2  Argentina          beef        55.48       1712.00\n",
       "3  Argentina     lamb_goat         1.56         54.63\n",
       "4  Argentina          fish         4.36          6.96"
      ]
     },
     "execution_count": 4,
     "metadata": {},
     "output_type": "execute_result"
    }
   ],
   "source": [
    "# loading the dataset\n",
    "food = pd.read_csv(\"data/food_consumption.csv\")\n",
    "food.head()"
   ]
  },
  {
   "cell_type": "code",
   "execution_count": 5,
   "id": "5aca9c93",
   "metadata": {},
   "outputs": [
    {
     "name": "stdout",
     "output_type": "stream",
     "text": [
      "<class 'pandas.core.frame.DataFrame'>\n",
      "RangeIndex: 1430 entries, 0 to 1429\n",
      "Data columns (total 4 columns):\n",
      " #   Column         Non-Null Count  Dtype  \n",
      "---  ------         --------------  -----  \n",
      " 0   country        1430 non-null   object \n",
      " 1   food_category  1430 non-null   object \n",
      " 2   consumption    1430 non-null   float64\n",
      " 3   co2_emission   1430 non-null   float64\n",
      "dtypes: float64(2), object(2)\n",
      "memory usage: 44.8+ KB\n"
     ]
    }
   ],
   "source": [
    "# checking and cleaning any data if necessary\n",
    "food.info()"
   ]
  },
  {
   "cell_type": "markdown",
   "id": "fa5790f6",
   "metadata": {},
   "source": [
    "The dataset has several information, including consumption and food categories in 130 countries. "
   ]
  },
  {
   "cell_type": "code",
   "execution_count": 6,
   "id": "6e9e1eb7",
   "metadata": {},
   "outputs": [
    {
     "data": {
      "text/plain": [
       "array(['Argentina', 'Australia', 'Albania', 'Iceland', 'New Zealand',\n",
       "       'USA', 'Uruguay', 'Luxembourg', 'Brazil', 'Kazakhstan', 'Sweden',\n",
       "       'Bermuda', 'Denmark', 'Finland', 'Ireland', 'Greece', 'France',\n",
       "       'Canada', 'Norway', 'Hong Kong SAR. China', 'French Polynesia',\n",
       "       'Israel', 'Switzerland', 'Netherlands', 'Kuwait', 'United Kingdom',\n",
       "       'Austria', 'Oman', 'Italy', 'Bahamas', 'Portugal', 'Malta',\n",
       "       'Armenia', 'Slovenia', 'Chile', 'Venezuela', 'Belgium', 'Germany',\n",
       "       'Russia', 'Croatia', 'Belarus', 'Spain', 'Paraguay',\n",
       "       'New Caledonia', 'South Africa', 'Barbados', 'Lithuania', 'Turkey',\n",
       "       'Estonia', 'Mexico', 'Costa Rica', 'Bolivia', 'Ecuador', 'Panama',\n",
       "       'Czech Republic', 'Romania', 'Colombia', 'Maldives', 'Cyprus',\n",
       "       'Serbia', 'United Arab Emirates', 'Algeria', 'Ukraine', 'Pakistan',\n",
       "       'Swaziland', 'Latvia', 'Bosnia and Herzegovina', 'Fiji',\n",
       "       'South Korea', 'Poland', 'Saudi Arabia', 'Botswana', 'Macedonia',\n",
       "       'Hungary', 'Trinidad and Tobago', 'Tunisia', 'Egypt', 'Mauritius',\n",
       "       'Bulgaria', 'Morocco', 'Slovakia', 'Niger', 'Kenya', 'Jordan',\n",
       "       'Japan', 'Georgia', 'Grenada', 'El Salvador', 'Cuba', 'China',\n",
       "       'Honduras', 'Taiwan. ROC', 'Angola', 'Jamaica', 'Namibia',\n",
       "       'Belize', 'Malaysia', 'Zimbabwe', 'Guatemala', 'Uganda', 'Nepal',\n",
       "       'Iran', 'Tanzania', 'Senegal', 'Peru', 'Nicaragua', 'Vietnam',\n",
       "       'Ethiopia', 'Myanmar', 'Congo', 'Zambia', 'Cameroon', 'Madagascar',\n",
       "       'Malawi', 'Guinea', 'Nigeria', 'Rwanda', 'Philippines', 'Ghana',\n",
       "       'Togo', 'Gambia', 'India', 'Thailand', 'Mozambique', 'Cambodia',\n",
       "       'Sierra Leone', 'Sri Lanka', 'Indonesia', 'Liberia', 'Bangladesh'],\n",
       "      dtype=object)"
      ]
     },
     "execution_count": 6,
     "metadata": {},
     "output_type": "execute_result"
    }
   ],
   "source": [
    "# food[\"country\"].nunique()\n",
    "food[\"country\"].unique()"
   ]
  },
  {
   "cell_type": "markdown",
   "id": "bccd7696-498d-4220-89ff-2154275d2469",
   "metadata": {},
   "source": [
    "We observed that the average **consumption** of poultry (21.22) seems to be higher than the average consumption of fish (17.29) across all countries:"
   ]
  },
  {
   "cell_type": "code",
   "execution_count": 7,
   "id": "03bfd902",
   "metadata": {},
   "outputs": [
    {
     "data": {
      "text/html": [
       "<div>\n",
       "<style scoped>\n",
       "    .dataframe tbody tr th:only-of-type {\n",
       "        vertical-align: middle;\n",
       "    }\n",
       "\n",
       "    .dataframe tbody tr th {\n",
       "        vertical-align: top;\n",
       "    }\n",
       "\n",
       "    .dataframe thead th {\n",
       "        text-align: right;\n",
       "    }\n",
       "</style>\n",
       "<table border=\"1\" class=\"dataframe\">\n",
       "  <thead>\n",
       "    <tr style=\"text-align: right;\">\n",
       "      <th></th>\n",
       "      <th>food_category</th>\n",
       "      <th>count</th>\n",
       "      <th>mean</th>\n",
       "      <th>std</th>\n",
       "      <th>min</th>\n",
       "      <th>25%</th>\n",
       "      <th>50%</th>\n",
       "      <th>75%</th>\n",
       "      <th>max</th>\n",
       "    </tr>\n",
       "  </thead>\n",
       "  <tbody>\n",
       "    <tr>\n",
       "      <th>0</th>\n",
       "      <td>beef</td>\n",
       "      <td>130.0</td>\n",
       "      <td>12.123385</td>\n",
       "      <td>9.654140</td>\n",
       "      <td>0.78</td>\n",
       "      <td>4.9975</td>\n",
       "      <td>8.285</td>\n",
       "      <td>17.9400</td>\n",
       "      <td>55.48</td>\n",
       "    </tr>\n",
       "    <tr>\n",
       "      <th>1</th>\n",
       "      <td>dairy</td>\n",
       "      <td>130.0</td>\n",
       "      <td>125.774692</td>\n",
       "      <td>93.327721</td>\n",
       "      <td>3.04</td>\n",
       "      <td>45.7925</td>\n",
       "      <td>110.975</td>\n",
       "      <td>192.7150</td>\n",
       "      <td>430.76</td>\n",
       "    </tr>\n",
       "    <tr>\n",
       "      <th>2</th>\n",
       "      <td>eggs</td>\n",
       "      <td>130.0</td>\n",
       "      <td>8.163769</td>\n",
       "      <td>5.032582</td>\n",
       "      <td>0.16</td>\n",
       "      <td>3.9450</td>\n",
       "      <td>8.420</td>\n",
       "      <td>12.3125</td>\n",
       "      <td>19.15</td>\n",
       "    </tr>\n",
       "    <tr>\n",
       "      <th>3</th>\n",
       "      <td>fish</td>\n",
       "      <td>130.0</td>\n",
       "      <td>17.287077</td>\n",
       "      <td>19.013508</td>\n",
       "      <td>0.24</td>\n",
       "      <td>6.0250</td>\n",
       "      <td>13.950</td>\n",
       "      <td>21.8525</td>\n",
       "      <td>179.71</td>\n",
       "    </tr>\n",
       "    <tr>\n",
       "      <th>4</th>\n",
       "      <td>lamb_goat</td>\n",
       "      <td>130.0</td>\n",
       "      <td>2.600154</td>\n",
       "      <td>3.665252</td>\n",
       "      <td>0.00</td>\n",
       "      <td>0.5600</td>\n",
       "      <td>1.325</td>\n",
       "      <td>3.1025</td>\n",
       "      <td>21.12</td>\n",
       "    </tr>\n",
       "    <tr>\n",
       "      <th>5</th>\n",
       "      <td>nuts</td>\n",
       "      <td>130.0</td>\n",
       "      <td>4.137231</td>\n",
       "      <td>3.372817</td>\n",
       "      <td>0.18</td>\n",
       "      <td>1.8050</td>\n",
       "      <td>3.495</td>\n",
       "      <td>5.6100</td>\n",
       "      <td>23.03</td>\n",
       "    </tr>\n",
       "    <tr>\n",
       "      <th>6</th>\n",
       "      <td>pork</td>\n",
       "      <td>130.0</td>\n",
       "      <td>16.123692</td>\n",
       "      <td>15.717646</td>\n",
       "      <td>0.00</td>\n",
       "      <td>2.0900</td>\n",
       "      <td>10.355</td>\n",
       "      <td>28.2275</td>\n",
       "      <td>67.11</td>\n",
       "    </tr>\n",
       "    <tr>\n",
       "      <th>7</th>\n",
       "      <td>poultry</td>\n",
       "      <td>130.0</td>\n",
       "      <td>21.219231</td>\n",
       "      <td>14.571980</td>\n",
       "      <td>0.47</td>\n",
       "      <td>10.9100</td>\n",
       "      <td>19.855</td>\n",
       "      <td>29.7475</td>\n",
       "      <td>62.50</td>\n",
       "    </tr>\n",
       "    <tr>\n",
       "      <th>8</th>\n",
       "      <td>rice</td>\n",
       "      <td>130.0</td>\n",
       "      <td>29.375154</td>\n",
       "      <td>37.324471</td>\n",
       "      <td>0.95</td>\n",
       "      <td>4.7200</td>\n",
       "      <td>11.875</td>\n",
       "      <td>43.4425</td>\n",
       "      <td>171.73</td>\n",
       "    </tr>\n",
       "    <tr>\n",
       "      <th>9</th>\n",
       "      <td>soybeans</td>\n",
       "      <td>130.0</td>\n",
       "      <td>0.860538</td>\n",
       "      <td>2.083336</td>\n",
       "      <td>0.00</td>\n",
       "      <td>0.0100</td>\n",
       "      <td>0.075</td>\n",
       "      <td>0.6400</td>\n",
       "      <td>16.95</td>\n",
       "    </tr>\n",
       "    <tr>\n",
       "      <th>10</th>\n",
       "      <td>wheat</td>\n",
       "      <td>130.0</td>\n",
       "      <td>71.549538</td>\n",
       "      <td>44.191318</td>\n",
       "      <td>2.74</td>\n",
       "      <td>37.0450</td>\n",
       "      <td>69.420</td>\n",
       "      <td>103.3725</td>\n",
       "      <td>197.50</td>\n",
       "    </tr>\n",
       "  </tbody>\n",
       "</table>\n",
       "</div>"
      ],
      "text/plain": [
       "   food_category  count        mean        std   min      25%      50%  \\\n",
       "0           beef  130.0   12.123385   9.654140  0.78   4.9975    8.285   \n",
       "1          dairy  130.0  125.774692  93.327721  3.04  45.7925  110.975   \n",
       "2           eggs  130.0    8.163769   5.032582  0.16   3.9450    8.420   \n",
       "3           fish  130.0   17.287077  19.013508  0.24   6.0250   13.950   \n",
       "4      lamb_goat  130.0    2.600154   3.665252  0.00   0.5600    1.325   \n",
       "5           nuts  130.0    4.137231   3.372817  0.18   1.8050    3.495   \n",
       "6           pork  130.0   16.123692  15.717646  0.00   2.0900   10.355   \n",
       "7        poultry  130.0   21.219231  14.571980  0.47  10.9100   19.855   \n",
       "8           rice  130.0   29.375154  37.324471  0.95   4.7200   11.875   \n",
       "9       soybeans  130.0    0.860538   2.083336  0.00   0.0100    0.075   \n",
       "10         wheat  130.0   71.549538  44.191318  2.74  37.0450   69.420   \n",
       "\n",
       "         75%     max  \n",
       "0    17.9400   55.48  \n",
       "1   192.7150  430.76  \n",
       "2    12.3125   19.15  \n",
       "3    21.8525  179.71  \n",
       "4     3.1025   21.12  \n",
       "5     5.6100   23.03  \n",
       "6    28.2275   67.11  \n",
       "7    29.7475   62.50  \n",
       "8    43.4425  171.73  \n",
       "9     0.6400   16.95  \n",
       "10  103.3725  197.50  "
      ]
     },
     "execution_count": 7,
     "metadata": {},
     "output_type": "execute_result"
    }
   ],
   "source": [
    "food.groupby(\"food_category\", as_index=False)[\"consumption\"].describe()"
   ]
  },
  {
   "cell_type": "markdown",
   "id": "93e307cc",
   "metadata": {},
   "source": [
    "But is this difference **statistically significant**? Let's do a **permutation test** to assess it."
   ]
  },
  {
   "cell_type": "code",
   "execution_count": 8,
   "id": "159f3cd2-90f7-4eb9-a85b-263341415ba1",
   "metadata": {},
   "outputs": [],
   "source": [
    "# H0 = avg poultry consumption = avg fish consumption \n",
    "# H1 = avg poultry consumption > avg fish consumption "
   ]
  },
  {
   "cell_type": "code",
   "execution_count": 9,
   "id": "0d60cb6e",
   "metadata": {},
   "outputs": [
    {
     "name": "stdout",
     "output_type": "stream",
     "text": [
      "[38.66, 46.12, 13.23, 26.87, 34.98, 50.01, 27.45, 21.37, 45.0, 18.38, 16.64, 32.62, 26.75, 19.87, 26.26, 15.74, 22.93, 36.68, 21.01, 54.86, 49.55, 62.5, 16.38, 23.9, 53.61, 31.55, 18.61, 31.51, 18.61, 45.74, 30.14, 26.4, 13.35, 23.46, 36.52, 39.28, 12.2, 17.75, 27.5, 8.52, 31.29, 28.63, 6.39, 44.36, 37.57, 42.62, 26.84, 18.78, 21.11, 30.12, 24.47, 34.31, 21.85, 30.81, 19.09, 15.38, 27.57, 18.47, 24.45, 10.64, 41.04, 7.42, 24.23, 5.01, 6.18, 20.53, 13.17, 20.26, 16.0, 27.41, 49.05, 5.33, 18.77, 23.78, 58.27, 18.5, 14.43, 38.51, 20.68, 20.77, 15.13, 1.08, 0.47, 33.39, 19.42, 12.28, 43.51, 19.84, 20.15, 13.2, 20.29, 32.13, 17.33, 52.51, 12.19, 28.31, 41.01, 4.97, 16.45, 1.51, 1.56, 25.38, 1.84, 4.62, 11.72, 21.31, 12.36, 0.66, 21.87, 13.02, 3.29, 3.29, 3.14, 1.38, 1.83, 1.73, 1.34, 11.91, 8.63, 6.63, 2.66, 1.88, 13.69, 1.41, 1.84, 4.97, 4.96, 7.5, 8.91, 1.4]\n",
      "[4.36, 17.69, 3.85, 74.41, 20.36, 12.35, 6.53, 23.09, 10.01, 5.21, 23.86, 33.22, 16.49, 33.8, 17.39, 14.42, 22.91, 14.56, 38.18, 42.44, 38.95, 22.18, 13.48, 18.64, 11.99, 15.49, 12.16, 21.56, 15.6, 18.8, 45.39, 24.58, 4.36, 7.76, 7.65, 8.34, 18.97, 11.16, 20.82, 15.83, 15.75, 28.83, 3.6, 19.38, 5.56, 37.41, 42.39, 5.58, 12.78, 7.56, 11.32, 2.18, 5.17, 11.05, 8.25, 6.07, 6.01, 179.71, 14.86, 5.59, 20.41, 3.74, 15.23, 1.87, 1.26, 21.3, 4.06, 35.01, 33.09, 10.49, 11.99, 3.98, 5.47, 4.93, 20.54, 12.63, 21.46, 19.66, 6.24, 17.44, 8.39, 2.7, 4.27, 5.13, 31.1, 10.42, 27.95, 6.25, 4.76, 21.01, 2.7, 18.29, 15.24, 21.95, 10.7, 7.57, 49.43, 2.8, 1.08, 12.5, 2.17, 9.8, 5.5, 22.94, 15.74, 3.59, 26.52, 0.24, 54.26, 26.22, 6.2, 14.71, 4.41, 7.33, 9.18, 16.03, 3.88, 28.51, 26.05, 11.69, 23.13, 4.71, 19.45, 7.74, 39.59, 32.03, 24.92, 25.65, 4.13, 18.07]\n"
     ]
    }
   ],
   "source": [
    "# extracting the consumption data for \"poultry\" and \"fish\" categories and storing them in two lists \n",
    "treatment = food[food[\"food_category\"] == \"poultry\"][\"consumption\"].tolist()\n",
    "control = food[food[\"food_category\"] == \"fish\"][\"consumption\"].tolist()\n",
    "print(treatment)\n",
    "print(control)"
   ]
  },
  {
   "cell_type": "code",
   "execution_count": 10,
   "id": "2a77cbff",
   "metadata": {},
   "outputs": [
    {
     "data": {
      "text/plain": [
       "130"
      ]
     },
     "execution_count": 10,
     "metadata": {},
     "output_type": "execute_result"
    }
   ],
   "source": [
    "# the count of unique countries is 130 so each list should be 130 in length\n",
    "len(treatment)"
   ]
  },
  {
   "cell_type": "code",
   "execution_count": 11,
   "id": "5233928d",
   "metadata": {},
   "outputs": [
    {
     "name": "stdout",
     "output_type": "stream",
     "text": [
      "avg poultry consumption is: 21.21923076923077\n",
      "avg fish consumption is: 17.28707692307692\n"
     ]
    }
   ],
   "source": [
    "# calculating the average consumption per list/group - this is the initially observed result\n",
    "mu_treatment = np.mean(treatment)\n",
    "mu_control = np.mean(control)\n",
    "print(\"avg poultry consumption is:\", mu_treatment)\n",
    "print(\"avg fish consumption is:\", mu_control)"
   ]
  },
  {
   "cell_type": "code",
   "execution_count": 12,
   "id": "5b4f81db",
   "metadata": {},
   "outputs": [
    {
     "name": "stdout",
     "output_type": "stream",
     "text": [
      "3.9321538461538488\n"
     ]
    }
   ],
   "source": [
    "# defining the test statistics \n",
    "mu_diff = mu_treatment - mu_control\n",
    "print(mu_diff)"
   ]
  },
  {
   "cell_type": "code",
   "execution_count": 13,
   "id": "b9957a83",
   "metadata": {},
   "outputs": [
    {
     "name": "stdout",
     "output_type": "stream",
     "text": [
      "<class 'pandas.core.frame.DataFrame'>\n",
      "RangeIndex: 260 entries, 0 to 259\n",
      "Data columns (total 2 columns):\n",
      " #   Column     Non-Null Count  Dtype  \n",
      "---  ------     --------------  -----  \n",
      " 0   group      260 non-null    object \n",
      " 1   responses  260 non-null    float64\n",
      "dtypes: float64(1), object(1)\n",
      "memory usage: 4.2+ KB\n"
     ]
    }
   ],
   "source": [
    "# creating a new df with the two lists\n",
    "df = pd.DataFrame({\"group\": [\"treatment\" if el <= len(treatment) else \"control\" for el in range(1,(len(treatment)*2)+1)], \n",
    "                   \"responses\": treatment + control})\n",
    "df.info()"
   ]
  },
  {
   "cell_type": "code",
   "execution_count": 14,
   "id": "3c76d2cf",
   "metadata": {},
   "outputs": [
    {
     "data": {
      "text/html": [
       "<div>\n",
       "<style scoped>\n",
       "    .dataframe tbody tr th:only-of-type {\n",
       "        vertical-align: middle;\n",
       "    }\n",
       "\n",
       "    .dataframe tbody tr th {\n",
       "        vertical-align: top;\n",
       "    }\n",
       "\n",
       "    .dataframe thead th {\n",
       "        text-align: right;\n",
       "    }\n",
       "</style>\n",
       "<table border=\"1\" class=\"dataframe\">\n",
       "  <thead>\n",
       "    <tr style=\"text-align: right;\">\n",
       "      <th></th>\n",
       "      <th>group</th>\n",
       "      <th>responses</th>\n",
       "    </tr>\n",
       "  </thead>\n",
       "  <tbody>\n",
       "    <tr>\n",
       "      <th>0</th>\n",
       "      <td>treatment</td>\n",
       "      <td>38.66</td>\n",
       "    </tr>\n",
       "    <tr>\n",
       "      <th>1</th>\n",
       "      <td>treatment</td>\n",
       "      <td>46.12</td>\n",
       "    </tr>\n",
       "    <tr>\n",
       "      <th>2</th>\n",
       "      <td>treatment</td>\n",
       "      <td>13.23</td>\n",
       "    </tr>\n",
       "    <tr>\n",
       "      <th>3</th>\n",
       "      <td>treatment</td>\n",
       "      <td>26.87</td>\n",
       "    </tr>\n",
       "    <tr>\n",
       "      <th>4</th>\n",
       "      <td>treatment</td>\n",
       "      <td>34.98</td>\n",
       "    </tr>\n",
       "    <tr>\n",
       "      <th>...</th>\n",
       "      <td>...</td>\n",
       "      <td>...</td>\n",
       "    </tr>\n",
       "    <tr>\n",
       "      <th>126</th>\n",
       "      <td>treatment</td>\n",
       "      <td>4.96</td>\n",
       "    </tr>\n",
       "    <tr>\n",
       "      <th>127</th>\n",
       "      <td>treatment</td>\n",
       "      <td>7.50</td>\n",
       "    </tr>\n",
       "    <tr>\n",
       "      <th>128</th>\n",
       "      <td>treatment</td>\n",
       "      <td>8.91</td>\n",
       "    </tr>\n",
       "    <tr>\n",
       "      <th>129</th>\n",
       "      <td>treatment</td>\n",
       "      <td>1.40</td>\n",
       "    </tr>\n",
       "    <tr>\n",
       "      <th>130</th>\n",
       "      <td>control</td>\n",
       "      <td>4.36</td>\n",
       "    </tr>\n",
       "  </tbody>\n",
       "</table>\n",
       "<p>131 rows × 2 columns</p>\n",
       "</div>"
      ],
      "text/plain": [
       "         group  responses\n",
       "0    treatment      38.66\n",
       "1    treatment      46.12\n",
       "2    treatment      13.23\n",
       "3    treatment      26.87\n",
       "4    treatment      34.98\n",
       "..         ...        ...\n",
       "126  treatment       4.96\n",
       "127  treatment       7.50\n",
       "128  treatment       8.91\n",
       "129  treatment       1.40\n",
       "130    control       4.36\n",
       "\n",
       "[131 rows x 2 columns]"
      ]
     },
     "execution_count": 14,
     "metadata": {},
     "output_type": "execute_result"
    }
   ],
   "source": [
    "# I want to make sure row 130 shows the control group, so both groups are included in the df\n",
    "df.head(131)"
   ]
  },
  {
   "cell_type": "code",
   "execution_count": 15,
   "id": "eada2167",
   "metadata": {},
   "outputs": [
    {
     "data": {
      "text/html": [
       "<div>\n",
       "<style scoped>\n",
       "    .dataframe tbody tr th:only-of-type {\n",
       "        vertical-align: middle;\n",
       "    }\n",
       "\n",
       "    .dataframe tbody tr th {\n",
       "        vertical-align: top;\n",
       "    }\n",
       "\n",
       "    .dataframe thead th {\n",
       "        text-align: right;\n",
       "    }\n",
       "</style>\n",
       "<table border=\"1\" class=\"dataframe\">\n",
       "  <thead>\n",
       "    <tr style=\"text-align: right;\">\n",
       "      <th></th>\n",
       "      <th>group</th>\n",
       "      <th>responses</th>\n",
       "    </tr>\n",
       "  </thead>\n",
       "  <tbody>\n",
       "    <tr>\n",
       "      <th>196</th>\n",
       "      <td>control</td>\n",
       "      <td>4.06</td>\n",
       "    </tr>\n",
       "    <tr>\n",
       "      <th>122</th>\n",
       "      <td>treatment</td>\n",
       "      <td>13.69</td>\n",
       "    </tr>\n",
       "    <tr>\n",
       "      <th>103</th>\n",
       "      <td>treatment</td>\n",
       "      <td>4.62</td>\n",
       "    </tr>\n",
       "    <tr>\n",
       "      <th>176</th>\n",
       "      <td>control</td>\n",
       "      <td>42.39</td>\n",
       "    </tr>\n",
       "    <tr>\n",
       "      <th>202</th>\n",
       "      <td>control</td>\n",
       "      <td>5.47</td>\n",
       "    </tr>\n",
       "  </tbody>\n",
       "</table>\n",
       "</div>"
      ],
      "text/plain": [
       "         group  responses\n",
       "196    control       4.06\n",
       "122  treatment      13.69\n",
       "103  treatment       4.62\n",
       "176    control      42.39\n",
       "202    control       5.47"
      ]
     },
     "execution_count": 15,
     "metadata": {},
     "output_type": "execute_result"
    }
   ],
   "source": [
    "df.sample(5)"
   ]
  },
  {
   "cell_type": "code",
   "execution_count": 16,
   "id": "08bd3945",
   "metadata": {},
   "outputs": [],
   "source": [
    "# I create a for loop to generate 20,000 permutations and store the results in a list\n",
    "n = 20000\n",
    "mu_diff_samples = []\n",
    "\n",
    "for i in range(n): \n",
    "    df_sample1 = df.sample(frac=0.5, replace=False)\n",
    "    ix2 = set(df.index) - set(df_sample1.index)\n",
    "    df_sample2 = df.loc[list(ix2)]\n",
    "    mu_diff_temp = np.mean(df_sample1[\"responses\"]) - np.mean(df_sample2[\"responses\"])\n",
    "    mu_diff_samples.append(mu_diff_temp)\n",
    "\n",
    "mu_diff_samples[0]"
   ]
  },
  {
   "cell_type": "code",
   "execution_count": null,
   "id": "675053f9",
   "metadata": {},
   "outputs": [
    {
     "name": "stderr",
     "output_type": "stream",
     "text": [
      "c:\\Users\\ornel\\anaconda3\\Lib\\site-packages\\seaborn\\_oldcore.py:1119: FutureWarning: use_inf_as_na option is deprecated and will be removed in a future version. Convert inf values to NaN before operating instead.\n",
      "  with pd.option_context('mode.use_inf_as_na', True):\n"
     ]
    },
    {
     "data": {
      "image/png": "[encoded data removed]",
      "text/plain": [
       "<Figure size 1500x900 with 1 Axes>"
      ]
     },
     "metadata": {},
     "output_type": "display_data"
    }
   ],
   "source": [
    "# let\"s visualize the results\n",
    "sns.histplot(mu_diff_samples)\n",
    "plt.axvline(mu_diff, 0, 1, color=\"r\", linestyle=\"--\")\n",
    "plt.show()"
   ]
  },
  {
   "cell_type": "code",
   "execution_count": null,
   "id": "f14fe4f7",
   "metadata": {},
   "outputs": [
    {
     "name": "stdout",
     "output_type": "stream",
     "text": [
      "Results more extreme than observed: 620\n",
      "Total results: 20000\n",
      "p-value: 620 / 20000 = 0.031\n"
     ]
    }
   ],
   "source": [
    "print(\"Results more extreme than observed:\", sum([el >= mu_diff for el in mu_diff_samples]))\n",
    "print(\"Total results:\", len(mu_diff_samples))\n",
    "p_value = sum([el > mu_diff for el in mu_diff_samples])/n\n",
    "print(\"p-value:\", sum([el >= mu_diff for el in mu_diff_samples]), \"/\", len(mu_diff_samples), \"=\", p_value)"
   ]
  },
  {
   "cell_type": "code",
   "execution_count": null,
   "id": "9a493320",
   "metadata": {},
   "outputs": [
    {
     "name": "stdout",
     "output_type": "stream",
     "text": [
      "p-value <= alpha | the observed result is statistically significant | H0 rejected\n"
     ]
    }
   ],
   "source": [
    "alpha = 0.05   # let\"s assume alpha in this case is 5%\n",
    "\n",
    "if p_value <= alpha: \n",
    "    print(\"p-value <= alpha | the observed result is statistically significant | H0 rejected\")\n",
    "else: \n",
    "    print(\"p-value > alpha | the observed result is not statistically significant | could not reject H0\")"
   ]
  },
  {
   "cell_type": "markdown",
   "id": "7a1d6041",
   "metadata": {},
   "source": [
    "Through the permutation test, we can reject our null hypothesis that the average poultry consumption is equal to the average fish consumption.\n",
    "This means that the our initially observed result (average poultry consumption is higher than fish consumption) is statistically significant."
   ]
  }
 ],
 "metadata": {
  "kernelspec": {
   "display_name": "Python 3 (ipykernel)",
   "language": "python",
   "name": "python3"
  },
  "language_info": {
   "codemirror_mode": {
    "name": "ipython",
    "version": 3
   },
   "file_extension": ".py",
   "mimetype": "text/x-python",
   "name": "python",
   "nbconvert_exporter": "python",
   "pygments_lexer": "ipython3",
   "version": "3.11.7"
  }
 },
 "nbformat": 4,
 "nbformat_minor": 5
}
